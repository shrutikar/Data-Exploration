{
 "cells": [
  {
   "cell_type": "code",
   "execution_count": 1,
   "metadata": {},
   "outputs": [],
   "source": [
    "import numpy as np\n",
    "from io import StringIO"
   ]
  },
  {
   "cell_type": "code",
   "execution_count": 2,
   "metadata": {},
   "outputs": [],
   "source": [
    "path = \"Numpydata.csv\""
   ]
  },
  {
   "cell_type": "code",
   "execution_count": 3,
   "metadata": {},
   "outputs": [],
   "source": [
    "data = np.genfromtxt(path,delimiter=\",\",names=True,dtype=float)\n"
   ]
  },
  {
   "cell_type": "code",
   "execution_count": 4,
   "metadata": {},
   "outputs": [],
   "source": [
    "age = data['age']"
   ]
  },
  {
   "cell_type": "code",
   "execution_count": 5,
   "metadata": {},
   "outputs": [
    {
     "name": "stdout",
     "output_type": "stream",
     "text": [
      "90.0\n",
      "17.0\n",
      "38.051\n",
      "13.342803266180612\n"
     ]
    }
   ],
   "source": [
    "max_age = np.max(age)\n",
    "print(max_age)\n",
    "min_age = np.min(age)\n",
    "print(min_age)\n",
    "age_mean = np.mean(age)\n",
    "print(age_mean)\n",
    "age_std = np.std(age)\n",
    "print(age_std)"
   ]
  },
  {
   "cell_type": "code",
   "execution_count": 6,
   "metadata": {},
   "outputs": [
    {
     "name": "stdout",
     "output_type": "stream",
     "text": [
      "3\n"
     ]
    }
   ],
   "source": [
    "race = data['race']\n",
    "race_0 = []\n",
    "race_1 = []\n",
    "race_2 = []\n",
    "race_3 = []\n",
    "race_4 = []\n",
    "for e in race:\n",
    "    globals()['race_%s'% int(e)].append(e)\n",
    "\n",
    "minority_val = 1001\n",
    "for i in range(5):\n",
    "    globals()['len_%s'% i] = len(globals()['race_%s'% int(i)])\n",
    "    if globals()['len_%s'% i] < minority_val:\n",
    "        minority_val = globals()['len_%s'% i]\n",
    "        minority_race = i\n",
    "print(minority_race)"
   ]
  },
  {
   "cell_type": "code",
   "execution_count": 7,
   "metadata": {},
   "outputs": [
    {
     "name": "stdout",
     "output_type": "stream",
     "text": [
      "[('age', '<f8'), ('educationnum', '<f8'), ('race', '<f8'), ('sex', '<f8'), ('capitalgain', '<f8'), ('capitalloss', '<f8'), ('hoursperweek', '<f8'), ('income', '<f8')]\n",
      "31.42622950819672\n"
     ]
    }
   ],
   "source": [
    "senior_citizens = data[age>60]\n",
    "print(senior_citizens.dtype)\n",
    "working_hours_sum = senior_citizens['hoursperweek'].sum()\n",
    "senior_citizens_len = len(senior_citizens)\n",
    "avg_working_hours = working_hours_sum/senior_citizens_len\n",
    "print(avg_working_hours)"
   ]
  },
  {
   "cell_type": "code",
   "execution_count": 8,
   "metadata": {},
   "outputs": [
    {
     "name": "stdout",
     "output_type": "stream",
     "text": [
      "12.954128440366972 8.03125\n"
     ]
    }
   ],
   "source": [
    "high = data['educationnum'][data['educationnum']>10]\n",
    "low = data['educationnum'][data['educationnum']<10]\n",
    "# print(high)\n",
    "avg_pay_high = high.mean()\n",
    "avg_pay_low = low.mean()\n",
    "\n",
    "print(avg_pay_high,avg_pay_low)\n"
   ]
  },
  {
   "cell_type": "code",
   "execution_count": null,
   "metadata": {},
   "outputs": [],
   "source": []
  }
 ],
 "metadata": {
  "kernelspec": {
   "display_name": "Python 3",
   "language": "python",
   "name": "python3"
  },
  "language_info": {
   "codemirror_mode": {
    "name": "ipython",
    "version": 3
   },
   "file_extension": ".py",
   "mimetype": "text/x-python",
   "name": "python",
   "nbconvert_exporter": "python",
   "pygments_lexer": "ipython3",
   "version": "3.7.3"
  }
 },
 "nbformat": 4,
 "nbformat_minor": 2
}
