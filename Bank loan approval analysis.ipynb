{
 "cells": [
  {
   "cell_type": "code",
   "execution_count": 1,
   "metadata": {},
   "outputs": [],
   "source": [
    "import pandas as pd\n",
    "import numpy as np"
   ]
  },
  {
   "cell_type": "code",
   "execution_count": 2,
   "metadata": {},
   "outputs": [
    {
     "name": "stdout",
     "output_type": "stream",
     "text": [
      "    Loan_ID Gender Married Dependents     Education Self_Employed  \\\n",
      "0  LP001002   Male      No          0      Graduate            No   \n",
      "1  LP001003   Male     Yes          1      Graduate            No   \n",
      "2  LP001005   Male     Yes          0      Graduate           Yes   \n",
      "3  LP001006   Male     Yes          0  Not Graduate            No   \n",
      "4  LP001008   Male      No          0      Graduate            No   \n",
      "\n",
      "  Property_Area Loan_Status  \n",
      "0         Urban           Y  \n",
      "1         Rural           N  \n",
      "2         Urban           Y  \n",
      "3         Urban           Y  \n",
      "4         Urban           Y  \n"
     ]
    }
   ],
   "source": [
    "path = 'PanadsBankLoan.csv'\n",
    "bank = pd.read_csv(path)\n",
    "categorical_var = bank.select_dtypes(include = 'object')\n",
    "print(categorical_var.head())"
   ]
  },
  {
   "cell_type": "code",
   "execution_count": 3,
   "metadata": {},
   "outputs": [
    {
     "name": "stdout",
     "output_type": "stream",
     "text": [
      "   ApplicantIncome  CoapplicantIncome  LoanAmount  Loan_Amount_Term  \\\n",
      "0             5849                0.0         NaN             360.0   \n",
      "1             4583             1508.0       128.0             360.0   \n",
      "2             3000                0.0        66.0             360.0   \n",
      "3             2583             2358.0       120.0             360.0   \n",
      "4             6000                0.0       141.0             360.0   \n",
      "\n",
      "   Credit_History  \n",
      "0             1.0  \n",
      "1             1.0  \n",
      "2             1.0  \n",
      "3             1.0  \n",
      "4             1.0  \n"
     ]
    }
   ],
   "source": [
    "numerical_var = bank.select_dtypes(include = 'number')\n",
    "print(numerical_var.head())"
   ]
  },
  {
   "cell_type": "code",
   "execution_count": 4,
   "metadata": {},
   "outputs": [
    {
     "name": "stdout",
     "output_type": "stream",
     "text": [
      "  Gender Married Dependents     Education Self_Employed  ApplicantIncome  \\\n",
      "0   Male      No          0      Graduate            No             5849   \n",
      "1   Male     Yes          1      Graduate            No             4583   \n",
      "2   Male     Yes          0      Graduate           Yes             3000   \n",
      "3   Male     Yes          0  Not Graduate            No             2583   \n",
      "4   Male      No          0      Graduate            No             6000   \n",
      "\n",
      "   CoapplicantIncome  LoanAmount  Loan_Amount_Term  Credit_History  \\\n",
      "0                0.0         NaN             360.0             1.0   \n",
      "1             1508.0       128.0             360.0             1.0   \n",
      "2                0.0        66.0             360.0             1.0   \n",
      "3             2358.0       120.0             360.0             1.0   \n",
      "4                0.0       141.0             360.0             1.0   \n",
      "\n",
      "  Property_Area Loan_Status  \n",
      "0         Urban           Y  \n",
      "1         Rural           N  \n",
      "2         Urban           Y  \n",
      "3         Urban           Y  \n",
      "4         Urban           Y  \n"
     ]
    }
   ],
   "source": [
    "banks = bank.drop(['Loan_ID'],axis=1)\n",
    "print(banks.head())"
   ]
  },
  {
   "cell_type": "code",
   "execution_count": 5,
   "metadata": {},
   "outputs": [
    {
     "name": "stdout",
     "output_type": "stream",
     "text": [
      "Gender               13\n",
      "Married               3\n",
      "Dependents           15\n",
      "Education             0\n",
      "Self_Employed        32\n",
      "ApplicantIncome       0\n",
      "CoapplicantIncome     0\n",
      "LoanAmount           22\n",
      "Loan_Amount_Term     14\n",
      "Credit_History       50\n",
      "Property_Area         0\n",
      "Loan_Status           0\n",
      "dtype: int64\n"
     ]
    }
   ],
   "source": [
    "print(banks.isnull().sum())"
   ]
  },
  {
   "cell_type": "code",
   "execution_count": 6,
   "metadata": {},
   "outputs": [
    {
     "name": "stdout",
     "output_type": "stream",
     "text": [
      "  Gender Married Dependents Education Self_Employed  ApplicantIncome  \\\n",
      "0   Male     Yes          0  Graduate            No             2500   \n",
      "\n",
      "   CoapplicantIncome  LoanAmount  Loan_Amount_Term  Credit_History  \\\n",
      "0                0.0       120.0             360.0             1.0   \n",
      "\n",
      "  Property_Area Loan_Status  \n",
      "0     Semiurban           Y  \n"
     ]
    }
   ],
   "source": [
    "bank_mode = banks.mode()\n",
    "print(bank_mode)"
   ]
  },
  {
   "cell_type": "code",
   "execution_count": 7,
   "metadata": {},
   "outputs": [
    {
     "name": "stdout",
     "output_type": "stream",
     "text": [
      "Gender               0\n",
      "Married              0\n",
      "Dependents           0\n",
      "Education            0\n",
      "Self_Employed        0\n",
      "ApplicantIncome      0\n",
      "CoapplicantIncome    0\n",
      "LoanAmount           0\n",
      "Loan_Amount_Term     0\n",
      "Credit_History       0\n",
      "Property_Area        0\n",
      "Loan_Status          0\n",
      "dtype: int64\n"
     ]
    }
   ],
   "source": [
    "banks['Gender'].fillna(banks['Gender'].mode()[0], inplace=True)\n",
    "banks['Married'].fillna(banks['Married'].mode()[0], inplace=True)\n",
    "banks['Dependents'].fillna(banks['Dependents'].mode()[0], inplace=True)\n",
    "banks['Self_Employed'].fillna(banks['Self_Employed'].mode()[0], inplace=True)\n",
    "banks['LoanAmount'].fillna(banks['LoanAmount'].mode()[0], inplace=True)\n",
    "banks['Loan_Amount_Term'].fillna(banks['Loan_Amount_Term'].mode()[0], inplace=True)\n",
    "banks['Credit_History'].fillna(banks['Credit_History'].mode()[0], inplace=True)\n",
    "\n",
    "print(banks.isnull().sum())"
   ]
  },
  {
   "cell_type": "code",
   "execution_count": 8,
   "metadata": {},
   "outputs": [
    {
     "name": "stdout",
     "output_type": "stream",
     "text": [
      "                              LoanAmount\n",
      "Gender Married Self_Employed            \n",
      "Female No      No             114.768116\n",
      "               Yes            125.272727\n",
      "       Yes     No             133.714286\n",
      "               Yes            282.250000\n",
      "Male   No      No             129.508621\n",
      "               Yes            180.588235\n",
      "       Yes     No             152.608150\n",
      "               Yes            167.420000\n"
     ]
    }
   ],
   "source": [
    "avg_loan_amount = pd.pivot_table(banks, values='LoanAmount', index=['Gender', 'Married','Self_Employed'], aggfunc=np.mean)\n",
    "print(avg_loan_amount)"
   ]
  },
  {
   "cell_type": "code",
   "execution_count": 9,
   "metadata": {},
   "outputs": [
    {
     "name": "stdout",
     "output_type": "stream",
     "text": [
      "56\n"
     ]
    }
   ],
   "source": [
    "loan_approved_se = banks[(banks['Self_Employed'] == 'Yes') & (banks['Loan_Status'] == 'Y')]['Self_Employed'].count()\n",
    "print(loan_approved_se)"
   ]
  },
  {
   "cell_type": "code",
   "execution_count": 10,
   "metadata": {},
   "outputs": [
    {
     "name": "stdout",
     "output_type": "stream",
     "text": [
      "366\n"
     ]
    }
   ],
   "source": [
    "loan_approved_nse = banks[(banks['Self_Employed'] == 'No') & (banks['Loan_Status'] == 'Y')]['Self_Employed'].count()\n",
    "print(loan_approved_nse)"
   ]
  },
  {
   "cell_type": "code",
   "execution_count": 11,
   "metadata": {},
   "outputs": [
    {
     "name": "stdout",
     "output_type": "stream",
     "text": [
      "13.270142180094787\n"
     ]
    }
   ],
   "source": [
    "percentage_se = loan_approved_se * 100 / (loan_approved_se + loan_approved_nse)\n",
    "print(percentage_se)"
   ]
  },
  {
   "cell_type": "code",
   "execution_count": 12,
   "metadata": {},
   "outputs": [
    {
     "name": "stdout",
     "output_type": "stream",
     "text": [
      "86.72985781990522\n"
     ]
    }
   ],
   "source": [
    "percentage_nse = loan_approved_nse * 100 / (loan_approved_se + loan_approved_nse)\n",
    "print(percentage_nse)"
   ]
  },
  {
   "cell_type": "code",
   "execution_count": 13,
   "metadata": {},
   "outputs": [
    {
     "name": "stdout",
     "output_type": "stream",
     "text": [
      "0      30.0\n",
      "1      30.0\n",
      "2      30.0\n",
      "3      30.0\n",
      "4      30.0\n",
      "5      30.0\n",
      "6      30.0\n",
      "7      30.0\n",
      "8      30.0\n",
      "9      30.0\n",
      "10     30.0\n",
      "11     30.0\n",
      "12     30.0\n",
      "13     30.0\n",
      "14     10.0\n",
      "15     30.0\n",
      "16     20.0\n",
      "17     30.0\n",
      "18     30.0\n",
      "19     30.0\n",
      "20     30.0\n",
      "21     30.0\n",
      "22     30.0\n",
      "23     30.0\n",
      "24     30.0\n",
      "25     30.0\n",
      "26     30.0\n",
      "27     30.0\n",
      "28     30.0\n",
      "29     30.0\n",
      "       ... \n",
      "584    30.0\n",
      "585     7.0\n",
      "586    30.0\n",
      "587    30.0\n",
      "588    30.0\n",
      "589    30.0\n",
      "590    15.0\n",
      "591    20.0\n",
      "592    30.0\n",
      "593    15.0\n",
      "594    30.0\n",
      "595    30.0\n",
      "596    30.0\n",
      "597    30.0\n",
      "598    30.0\n",
      "599    30.0\n",
      "600    15.0\n",
      "601    30.0\n",
      "602    30.0\n",
      "603    30.0\n",
      "604    30.0\n",
      "605    15.0\n",
      "606    30.0\n",
      "607    30.0\n",
      "608    30.0\n",
      "609    30.0\n",
      "610    15.0\n",
      "611    30.0\n",
      "612    30.0\n",
      "613    30.0\n",
      "Name: Loan_Amount_Term, Length: 614, dtype: float64\n"
     ]
    }
   ],
   "source": [
    "loan_term = banks['Loan_Amount_Term'].apply(lambda x: x/12)\n",
    "print(loan_term)"
   ]
  },
  {
   "cell_type": "code",
   "execution_count": 14,
   "metadata": {},
   "outputs": [
    {
     "name": "stdout",
     "output_type": "stream",
     "text": [
      "554\n"
     ]
    }
   ],
   "source": [
    "big_loan_term = loan_term[(loan_term >= 25)].count()\n",
    "print(big_loan_term)"
   ]
  },
  {
   "cell_type": "code",
   "execution_count": 15,
   "metadata": {},
   "outputs": [
    {
     "name": "stdout",
     "output_type": "stream",
     "text": [
      "            Gender Married Dependents Education Self_Employed  \\\n",
      "Loan_Status                                                     \n",
      "N             Male     Yes          1  Graduate            No   \n",
      "Y             Male      No          0  Graduate            No   \n",
      "\n",
      "             ApplicantIncome  CoapplicantIncome  LoanAmount  Loan_Amount_Term  \\\n",
      "Loan_Status                                                                     \n",
      "N                       4583             1508.0       128.0             360.0   \n",
      "Y                       5849                0.0       120.0             360.0   \n",
      "\n",
      "             Credit_History Property_Area  \n",
      "Loan_Status                                \n",
      "N                       1.0         Rural  \n",
      "Y                       1.0         Urban  \n"
     ]
    }
   ],
   "source": [
    "loan_groupby = banks.groupby('Loan_Status')\n",
    "print(loan_groupby.first())"
   ]
  },
  {
   "cell_type": "code",
   "execution_count": 16,
   "metadata": {},
   "outputs": [
    {
     "name": "stdout",
     "output_type": "stream",
     "text": [
      "             ApplicantIncome  Credit_History\n",
      "Loan_Status                                 \n",
      "N                       4583             1.0\n",
      "Y                       5849             1.0\n"
     ]
    }
   ],
   "source": [
    "loan_groupby = loan_groupby['ApplicantIncome', 'Credit_History']\n",
    "print(loan_groupby.first())"
   ]
  },
  {
   "cell_type": "code",
   "execution_count": 17,
   "metadata": {},
   "outputs": [
    {
     "name": "stdout",
     "output_type": "stream",
     "text": [
      "             ApplicantIncome  Credit_History\n",
      "Loan_Status                                 \n",
      "N                5446.078125        0.572917\n",
      "Y                5384.068720        0.983412\n"
     ]
    }
   ],
   "source": [
    "mean_values = loan_groupby.mean()\n",
    "print(mean_values)"
   ]
  },
  {
   "cell_type": "code",
   "execution_count": null,
   "metadata": {},
   "outputs": [],
   "source": []
  }
 ],
 "metadata": {
  "kernelspec": {
   "display_name": "Python 3",
   "language": "python",
   "name": "python3"
  },
  "language_info": {
   "codemirror_mode": {
    "name": "ipython",
    "version": 3
   },
   "file_extension": ".py",
   "mimetype": "text/x-python",
   "name": "python",
   "nbconvert_exporter": "python",
   "pygments_lexer": "ipython3",
   "version": "3.7.3"
  }
 },
 "nbformat": 4,
 "nbformat_minor": 2
}
